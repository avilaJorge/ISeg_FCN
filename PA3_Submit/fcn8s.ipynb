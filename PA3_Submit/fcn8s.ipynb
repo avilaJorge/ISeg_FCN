{
  "nbformat": 4,
  "nbformat_minor": 0,
  "metadata": {
    "colab": {
      "name": "fcn8s.ipynb",
      "provenance": [],
      "collapsed_sections": [],
      "machine_shape": "hm"
    },
    "kernelspec": {
      "name": "python3",
      "display_name": "Python 3"
    },
    "accelerator": "GPU"
  },
  "cells": [
    {
      "cell_type": "markdown",
      "metadata": {
        "id": "TxRpsKtA0kz8",
        "colab_type": "text"
      },
      "source": [
        "Below lines are only for downloading dataset and checking resources."
      ]
    },
    {
      "cell_type": "code",
      "metadata": {
        "id": "dMezdmzaY64P",
        "colab_type": "code",
        "colab": {}
      },
      "source": [
        "from google.colab import drive\n",
        "drive.mount('/content/drive')"
      ],
      "execution_count": 0,
      "outputs": []
    },
    {
      "cell_type": "code",
      "metadata": {
        "colab_type": "code",
        "id": "0yC5X9HRpQfl",
        "colab": {}
      },
      "source": [
        "!wget --keep-session-cookies --save-cookies=cookies.txt --post-data 'username=avilaJorge&password=C323781C&submit=Login' https://www.cityscapes-dataset.com/login/\n",
        "!wget --load-cookies cookies.txt --content-disposition https://www.cityscapes-dataset.com/file-handling/?packageID=1"
      ],
      "execution_count": 0,
      "outputs": []
    },
    {
      "cell_type": "code",
      "metadata": {
        "id": "edeW64UMmjcA",
        "colab_type": "code",
        "colab": {}
      },
      "source": [
        "!wget --keep-session-cookies --save-cookies=cookies.txt --post-data 'username=avilaJorge&password=C323781C&submit=Login' https://www.cityscapes-dataset.com/login/\n",
        "!wget --load-cookies cookies.txt --content-disposition https://www.cityscapes-dataset.com/file-handling/?packageID=3"
      ],
      "execution_count": 0,
      "outputs": []
    },
    {
      "cell_type": "code",
      "metadata": {
        "id": "ZINW93N3pmYE",
        "colab_type": "code",
        "colab": {}
      },
      "source": [
        "import zipfile\n",
        "with zipfile.ZipFile('leftImg8bit_trainvaltest.zip', 'r') as zip_ref:\n",
        "    zip_ref.extractall('./Data')\n",
        "with zipfile.ZipFile('gtFine_trainvaltest.zip', 'r') as zip_ref:\n",
        "    zip_ref.extractall('./Data')"
      ],
      "execution_count": 0,
      "outputs": []
    },
    {
      "cell_type": "code",
      "metadata": {
        "colab_type": "code",
        "id": "3Zr_MtaJ9hod",
        "colab": {}
      },
      "source": [
        "# !cp -nR ./datasets/. ./drive/My\\ Drive/CSE253/datasets\n",
        "!mv ./Data ./cityscapes\n",
        "!mkdir datasets\n",
        "!mv ./cityscapes ./datasets/cityscapes\n",
        "!rm ./leftImg8bit_trainvaltest.zip\n",
        "!rm ./gtFine_trainvaltest.zip"
      ],
      "execution_count": 0,
      "outputs": []
    },
    {
      "cell_type": "code",
      "metadata": {
        "id": "eNQedZ0zsGnL",
        "colab_type": "code",
        "colab": {}
      },
      "source": [
        "gpu_info = !nvidia-smi\n",
        "gpu_info = '\\n'.join(gpu_info)\n",
        "if gpu_info.find('failed') >= 0:\n",
        "  print('Select the Runtime → \"Change runtime type\" menu to enable a GPU accelerator, ')\n",
        "  print('and then re-execute this cell.')\n",
        "else:\n",
        "  print(gpu_info)\n",
        "\n",
        "from psutil import virtual_memory\n",
        "ram_gb = virtual_memory().total / 1e9\n",
        "print('Your runtime has {:.1f} gigabytes of available RAM\\n'.format(ram_gb))\n",
        "\n",
        "if ram_gb < 20:\n",
        "  print('To enable a high-RAM runtime, select the Runtime → \"Change runtime type\"')\n",
        "  print('menu, and then select High-RAM in the Runtime shape dropdown. Then, ')\n",
        "  print('re-execute this cell.')\n",
        "else:\n",
        "  print('You are using a high-RAM runtime!')\n"
      ],
      "execution_count": 0,
      "outputs": []
    },
    {
      "cell_type": "markdown",
      "metadata": {
        "id": "Zwp1KbnX0uTq",
        "colab_type": "text"
      },
      "source": [
        "------------- Code Starts Here -----------"
      ]
    },
    {
      "cell_type": "code",
      "metadata": {
        "pycharm": {
          "is_executing": false
        },
        "id": "CX6mwIytSnCf",
        "colab_type": "code",
        "colab": {}
      },
      "source": [
        "from torchvision import utils\n",
        "from dataloader import *\n",
        "from utils import *\n",
        "import torchvision\n",
        "import torch.nn.functional as F\n",
        "import torch.optim as optim\n",
        "import torch.nn as nn\n",
        "from torch.autograd import Variable\n",
        "import torch\n",
        "import time\n",
        "from datetime import datetime\n",
        "\n",
        "import matplotlib.pyplot as plt\n",
        "\n",
        "plt.ion()   # interactive mod"
      ],
      "execution_count": 0,
      "outputs": []
    },
    {
      "cell_type": "code",
      "metadata": {
        "id": "-ilKdSTsflaa",
        "colab_type": "code",
        "colab": {}
      },
      "source": [
        "class FCN8S(nn.Module):\n",
        "\n",
        "    def __init__(self, n_class):\n",
        "        super(FCN8S, self).__init__()\n",
        "        self.n_class = n_class\n",
        "        self.relu    = nn.ReLU(inplace=False)\n",
        "        self.pool = nn.MaxPool2d(2, stride=2) \n",
        "        self.conv11 = nn.Conv2d(3,  64, kernel_size=3, stride=1, padding=100, dilation=1)\n",
        "        self.conv12 = nn.Conv2d(64, 64, kernel_size=3, stride=1, padding=1, dilation=1)\n",
        "\n",
        "        self.conv21 = nn.Conv2d(64,  128, kernel_size=3, stride=1, padding=1, dilation=1)\n",
        "        self.conv22 = nn.Conv2d(128, 128, kernel_size=3, stride=1, padding=1, dilation=1)\n",
        "\n",
        "        self.conv31 = nn.Conv2d(128, 256, kernel_size=3, stride=1, padding=1, dilation=1)\n",
        "        self.conv32 = nn.Conv2d(256, 256, kernel_size=3, stride=1, padding=1, dilation=1)\n",
        "        self.conv33 = nn.Conv2d(256, 256, kernel_size=3, stride=1, padding=1, dilation=1)\n",
        "\n",
        "        self.conv41 = nn.Conv2d(256, 512, kernel_size=3, stride=1, padding=1, dilation=1)\n",
        "        self.conv42 = nn.Conv2d(512, 512, kernel_size=3, stride=1, padding=1, dilation=1)\n",
        "        self.conv43 = nn.Conv2d(512, 512, kernel_size=3, stride=1, padding=1, dilation=1)\n",
        "\n",
        "        self.conv51 = nn.Conv2d(512, 512, kernel_size=3, stride=1, padding=1, dilation=1)\n",
        "        self.conv52 = nn.Conv2d(512, 512, kernel_size=3, stride=1, padding=1, dilation=1)\n",
        "        self.conv53 = nn.Conv2d(512, 512, kernel_size=3, stride=1, padding=1, dilation=1)\n",
        "\n",
        "        self.conv6 = nn.Conv2d(512, 4096, kernel_size=7, padding=0)\n",
        "        self.dropout6 = nn.Dropout2d(p=0.5, inplace=True)\n",
        "\n",
        "        self.conv7 = nn.Conv2d(4096, 4096, kernel_size=1, padding=0)\n",
        "        self.dropout7 = nn.Dropout(p=0.5, inplace=True)\n",
        "\n",
        "        self.clsfr1 = nn.Conv2d(4096, self.n_class, kernel_size=1, padding=0)\n",
        "        self.clsfr2 = nn.Conv2d(512, self.n_class, kernel_size=1, padding=0)\n",
        "        self.clsfr3 = nn.Conv2d(256, self.n_class, kernel_size=1, padding=0)\n",
        "\n",
        "        self.deconv1 = nn.ConvTranspose2d(self.n_class, self.n_class, kernel_size=4, stride=2, padding=0)\n",
        "        self.deconv2 = nn.ConvTranspose2d(self.n_class, self.n_class, kernel_size=4, stride=2, padding=0)\n",
        "        self.deconv3 = nn.ConvTranspose2d(self.n_class, self.n_class, kernel_size=16, stride=8, padding=0)\n",
        "\n",
        "    def __conv_relu(self, input, conv, pool=None):\n",
        "        if pool is None:\n",
        "          return self.relu(conv(input))\n",
        "        else:\n",
        "          return pool(self.relu(conv(input)))\n",
        "\n",
        "\n",
        "    def forward(self, x):\n",
        "        z = self.__conv_relu(x, self.conv11)\n",
        "        z = self.__conv_relu(z, self.conv12, self.pool)\n",
        "\n",
        "        z = self.__conv_relu(z, self.conv21)\n",
        "        z = self.__conv_relu(z, self.conv22, self.pool)\n",
        "\n",
        "        z = self.__conv_relu(z, self.conv31)\n",
        "        z = self.__conv_relu(z, self.conv32)\n",
        "        sp3 = self.__conv_relu(z, self.conv33, self.pool)\n",
        "\n",
        "        z = self.__conv_relu(sp3, self.conv41)\n",
        "        z = self.__conv_relu(z, self.conv42)\n",
        "        sp4 = self.__conv_relu(z, self.conv43, self.pool)\n",
        "\n",
        "        z = self.__conv_relu(sp4, self.conv51)\n",
        "        z = self.__conv_relu(z, self.conv52)\n",
        "        z = self.__conv_relu(z, self.conv53, self.pool)\n",
        "\n",
        "        z = self.dropout6(self.__conv_relu(z, self.conv6))\n",
        "\n",
        "        sfr = self.dropout7(self.__conv_relu(z, self.conv7))\n",
        "\n",
        "        ups2 = self.deconv1(self.clsfr1(sfr))\n",
        "        sp4  = self.clsfr2(sp4)\n",
        "        sp3  = self.clsfr3(sp3)\n",
        "        cropped = sp4[:, :, 10:(10 + ups2.size()[2]), 10:(10 + ups2.size()[3])]\n",
        "        ups4 = self.deconv2(sp4[:, :, 10:(10 + ups2.size()[2]), 10:(10 + ups2.size()[3])] + ups2)\n",
        "        ups3 = self.deconv3(sp3[:, :, 18:(18 + ups4.size()[2]), 18:(18 + ups4.size()[3])] + ups4)\n",
        "        score = ups3[:, :, 56: (56 + x.size(2)), 56: (56 + x.size(3))].contiguous()\n",
        "        return score"
      ],
      "execution_count": 0,
      "outputs": []
    },
    {
      "cell_type": "code",
      "metadata": {
        "id": "NsbXlPABm4FQ",
        "colab_type": "code",
        "colab": {}
      },
      "source": [
        "class AverageBase(object):\n",
        "    \n",
        "    def __init__(self, value=0):\n",
        "        self.value = float(value) if value is not None else None\n",
        "       \n",
        "    def __str__(self):\n",
        "        return str(round(self.value, 4))\n",
        "    \n",
        "    def __repr__(self):\n",
        "        return self.value\n",
        "    \n",
        "    def __format__(self, fmt):\n",
        "        return self.value.__format__(fmt)\n",
        "    \n",
        "    def __float__(self):\n",
        "        return self.value\n",
        "    \n",
        "\n",
        "class RunningAverage(AverageBase):\n",
        "    \"\"\"\n",
        "    Keeps track of a cumulative moving average (CMA).\n",
        "    \"\"\"\n",
        "    \n",
        "    def __init__(self, value=0, count=0):\n",
        "        super(RunningAverage, self).__init__(value)\n",
        "        self.count = count\n",
        "        \n",
        "    def update(self, value):\n",
        "        self.value = (self.value * self.count + float(value))\n",
        "        self.count += 1\n",
        "        self.value /= self.count\n",
        "        return self.value\n",
        "\n",
        "\n",
        "class MovingAverage(AverageBase):\n",
        "    \"\"\"\n",
        "    An exponentially decaying moving average (EMA).\n",
        "    \"\"\"\n",
        "    \n",
        "    def __init__(self, alpha=0.99):\n",
        "        super(MovingAverage, self).__init__(None)\n",
        "        self.alpha = alpha\n",
        "        \n",
        "    def update(self, value):\n",
        "        if self.value is None:\n",
        "            self.value = float(value)\n",
        "        else:\n",
        "            self.value = self.alpha * self.value + (1 - self.alpha) * float(value)\n",
        "        return self.value"
      ],
      "execution_count": 0,
      "outputs": []
    },
    {
      "cell_type": "code",
      "metadata": {
        "pycharm": {
          "is_executing": false
        },
        "id": "nu7sqQI8SnDC",
        "colab_type": "code",
        "outputId": "e00e94bb-381a-4325-c4d0-538e7726bec5",
        "colab": {
          "base_uri": "https://localhost:8080/",
          "height": 104
        }
      },
      "source": [
        "device = torch.device(\"cuda:0\" if torch.cuda.is_available() else \"cpu\")\n",
        "print(device)\n",
        "def print_GPU_stats():\n",
        "    print(\"total GPU Mem: \", torch.cuda.get_device_properties(device).total_memory)\n",
        "    print(\"total GPU Cached: \", torch.cuda.memory_cached(device))\n",
        "    print(\"total GPU Allocated: \", torch.cuda.memory_allocated(device))\n",
        "    print(\"Available GB: \", (torch.cuda.get_device_properties(device).total_memory - torch.cuda.memory_allocated(device))/(10**9))\n",
        "print_GPU_stats()"
      ],
      "execution_count": 4,
      "outputs": [
        {
          "output_type": "stream",
          "text": [
            "cuda:0\n",
            "total GPU Mem:  17071734784\n",
            "total GPU Cached:  0\n",
            "total GPU Allocated:  0\n",
            "Available GB:  17.071734784\n"
          ],
          "name": "stdout"
        }
      ]
    },
    {
      "cell_type": "code",
      "metadata": {
        "id": "TLEsLIFISnDG",
        "colab_type": "code",
        "colab": {}
      },
      "source": [
        "trn_batch_size = 12\n",
        "val_batch_size = 4\n",
        "num_wrkrs = 4\n",
        "train_dataset = CityScapesDatasetResize(csv_file='train_local.csv')\n",
        "val_dataset = CityScapesValidationDataset(csv_file='val_local.csv')\n",
        "test_dataset = CityScapesValidationDataset(csv_file='test_local.csv')\n",
        "train_loader = DataLoader(dataset=train_dataset,\n",
        "                          batch_size=trn_batch_size,\n",
        "                          num_workers=num_wrkrs,\n",
        "                          shuffle=True)\n",
        "val_loader = DataLoader(dataset=val_dataset,\n",
        "                          batch_size=val_batch_size,\n",
        "                          num_workers=num_wrkrs,\n",
        "                          shuffle=True)\n",
        "test_loader = DataLoader(dataset=test_dataset,\n",
        "                          batch_size=val_batch_size,\n",
        "                          num_workers=num_wrkrs,\n",
        "                          shuffle=True)"
      ],
      "execution_count": 0,
      "outputs": []
    },
    {
      "cell_type": "code",
      "metadata": {
        "id": "jguLgH3qSnDO",
        "colab_type": "code",
        "colab": {}
      },
      "source": [
        "def init_weights(m):\n",
        "    if isinstance(m, nn.Conv2d) or isinstance(m, nn.ConvTranspose2d):\n",
        "        torch.nn.init.xavier_uniform_(m.weight.data)\n",
        "        m.bias.data.zero_()\n",
        "\n",
        "epochs     = 100\n",
        "start_epoch = 1\n",
        "path = '/content/drive/My Drive/CSE253/PA3/FCN8S/'\n",
        "criterion = torch.nn.CrossEntropyLoss()\n",
        "fcn_model = FCN8S(n_class=34)\n",
        "fcn_model.apply(init_weights)\n",
        "# fcn_model.load_state_dict(torch.load(path + 'best_model_02_16_07_22.pt'))\n",
        "optimizer = optim.Adam(fcn_model.parameters(), lr=5e-5, weight_decay=1e-5)"
      ],
      "execution_count": 0,
      "outputs": []
    },
    {
      "cell_type": "code",
      "metadata": {
        "id": "A9bZwpWlSnDT",
        "colab_type": "code",
        "outputId": "6ee6922c-857f-4c31-a242-418264978d9c",
        "colab": {
          "base_uri": "https://localhost:8080/",
          "height": 52
        }
      },
      "source": [
        "dt = datetime.now().strftime(\"%m_%d_%H_%M\")\n",
        "output_fn = path + \"model_output_\" + dt + \".txt\"\n",
        "best_model_fn = path + \"best_model_\" + dt + \".pt\"\n",
        "model_fn = path + \"model_\" + dt + \".pt\"\n",
        "\n",
        "def print_info(out_str):\n",
        "    f = open(output_fn,\"a\")\n",
        "    print(out_str)\n",
        "    f.write(out_str)\n",
        "    f.close()\n",
        "\n",
        "# print_info(\"Started: %s\\nFrom a previously trained model which left off on start of epoch 9.\\n\" % datetime.now())\n",
        "print_info(\"Started: %s\\n\" % datetime.now())"
      ],
      "execution_count": 7,
      "outputs": [
        {
          "output_type": "stream",
          "text": [
            "Started: 2020-02-16 21:12:20.620274\n",
            "\n"
          ],
          "name": "stdout"
        }
      ]
    },
    {
      "cell_type": "code",
      "metadata": {
        "pycharm": {
          "is_executing": false
        },
        "scrolled": false,
        "id": "g27N81T6SnDa",
        "colab_type": "code",
        "outputId": "bf1d8296-1d6c-45cd-f5db-b81e6e573c70",
        "colab": {
          "base_uri": "https://localhost:8080/",
          "height": 277
        }
      },
      "source": [
        "use_gpu = torch.cuda.is_available()\n",
        "# use_gpu = False\n",
        "if use_gpu:\n",
        "    fcn_model = fcn_model.to(device)\n",
        "    \n",
        "best_loss = float('inf')\n",
        "prev_loss = float('inf')\n",
        "loss_inc_cnt = 0\n",
        "stop_early = False\n",
        "\n",
        "def train():\n",
        "    softmax = nn.Softmax(dim=1)\n",
        "    print(\"Starting Training\")\n",
        "\n",
        "    for epoch in range(start_epoch, epochs):\n",
        "        trn_losses = MovingAverage()\n",
        "        trn_accs = MovingAverage()\n",
        "        trn_ious = MovingAverage()\n",
        "        ts = time.time()\n",
        "        for iter, (X, tar, Y) in enumerate(train_loader):\n",
        "            optimizer.zero_grad()\n",
        "\n",
        "            if use_gpu:\n",
        "                inputs = X.to(device)\n",
        "                labels_cat = Y.to(device)\n",
        "            else:\n",
        "                inputs, labels_cat, labels_enc = X, Y, tar\n",
        "            \n",
        "            outputs = softmax(fcn_model(inputs))\n",
        "            loss = criterion(outputs, labels_cat)\n",
        "            loss.backward()\n",
        "            optimizer.step()\n",
        "            loss = loss.item()\n",
        "\n",
        "            output_labels = outputs.argmax(dim=1)\n",
        "\n",
        "            trn_losses.update(loss)\n",
        "            trn_accs.update(pixel_acc(output_labels, labels_cat))\n",
        "            trn_ious.update(np.nanmean(iou(output_labels, labels_cat)))\n",
        "            \n",
        "            if iter % 10 == 0:\n",
        "                print_info(\"epoch{}, iter{}, loss: {} \\n\".format(epoch, iter, loss))\n",
        "                \n",
        "        \n",
        "        print_info(\"Finish epoch {}, time elapsed {} \\n\".format(epoch, time.time() - ts))\n",
        "    \n",
        "        loss, acc, IoU = trn_losses.value, trn_accs.value, trn_ious.value \n",
        "\n",
        "        print_info(\"Training Check:\\tLoss: %f\\tAccuracy: %f\\tIoU: %f \\n\" % (loss, acc * 100, IoU))\n",
        "        \n",
        "        val(epoch)\n",
        "\n",
        "        if stop_early: return\n",
        "\n",
        "def evaluate(data_loader, validation=False, verbose=False):\n",
        "\n",
        "    global best_loss\n",
        "    global prev_loss\n",
        "    global loss_inc_cnt\n",
        "    global stop_early\n",
        "    \n",
        "    with torch.no_grad():\n",
        "        losses = RunningAverage()\n",
        "        accs = RunningAverage()\n",
        "        ious = RunningAverage()\n",
        "        softmax = nn.Softmax(dim=1)\n",
        "        ts = time.time()\n",
        "        print(\"Starting Evaluation\")\n",
        "        \n",
        "        for iter, (X, tar, Y) in enumerate(data_loader):\n",
        "\n",
        "            if use_gpu:\n",
        "                inputs = X.to(device)\n",
        "                labels_cat = Y.to(device)\n",
        "            else:\n",
        "                inputs, labels_cat, labels_enc = X, Y, tar\n",
        "\n",
        "            outputs = softmax(fcn_model(inputs))\n",
        "            outputs = torch.nn.functional.interpolate(input=outputs, size=(1024,2048))\n",
        "\n",
        "            output_labels = outputs.argmax(dim=1)\n",
        "\n",
        "            losses.update(criterion(outputs, labels_cat).item())\n",
        "\n",
        "            accs.update(pixel_acc(output_labels, labels_cat))\n",
        "\n",
        "            ious.update(np.nanmean(iou(output_labels, labels_cat)))\n",
        "\n",
        "        print_info(\"Finished evaluation. Time elapsed %f\\n\" % (time.time() - ts))\n",
        "\n",
        "        # This probably should not be a straight average, but just doing this for now\n",
        "        loss = losses.value \n",
        "        acc = accs.value \n",
        "        IoU = ious.value \n",
        "        \n",
        "        if validation:\n",
        "            if best_loss > loss:\n",
        "                best_loss = loss\n",
        "                print_info(\"Best Loss: \" + str(best_loss) + \"\\n\")\n",
        "                torch.save(fcn_model.state_dict(), best_model_fn)\n",
        "            loss_inc_cnt = loss_inc_cnt + 1 if prev_loss < loss else 0\n",
        "            if loss_inc_cnt > 2: stop_early = True\n",
        "            torch.save(fcn_model.state_dict(), model_fn)\n",
        "        \n",
        "        return loss, acc, IoU\n",
        "\n",
        "def val(epoch):\n",
        "    # fcn_model.eval()\n",
        "    # Complete this function - Calculate loss, accuracy and IoU for every epoch\n",
        "    # Make sure to include a softmax after the output from your model\n",
        "    loss, acc, IoU = evaluate(val_loader, validation=True)\n",
        "    print_info(\"Validation Results: Loss: %f\\tAccuracy: %f\\tIoU: %f \\n\" % (loss, acc * 100, IoU))\n",
        "    if stop_early: print_info(\"Epoch %d:\\tStopping Early\" % (epoch))\n",
        "    \n",
        "def test():\n",
        "    print(' ')\n",
        "    # Complete this function - Calculate accuracy and IoU \n",
        "    # Make sure to include a softmax after the output from your model\n",
        "    loss, acc, IoU = evaluate(test_loader)\n",
        "    print_info(\"Test Results:\\tLoss: %f\\tAccuracy: %f\\tIoU: %f \\n\" % (loss, acc * 100, IoU))\n",
        "    \n",
        "if __name__ == \"__main__\":\n",
        "    # val(0)  # show the accuracy before training\n",
        "    # print_info(\"---------Above is accuracy before training.---------\\n\")\n",
        "    train()\n",
        "    # test()"
      ],
      "execution_count": 0,
      "outputs": [
        {
          "output_type": "stream",
          "text": [
            "Starting Training\n",
            "epoch1, iter0, loss: 2.7056102752685547 \n",
            "\n",
            "epoch1, iter10, loss: 2.730027437210083 \n",
            "\n",
            "epoch1, iter20, loss: 2.7134037017822266 \n",
            "\n",
            "epoch1, iter30, loss: 2.747056245803833 \n",
            "\n",
            "epoch1, iter40, loss: 2.707852363586426 \n",
            "\n",
            "epoch1, iter50, loss: 2.6959946155548096 \n",
            "\n",
            "epoch1, iter60, loss: 2.7141292095184326 \n",
            "\n"
          ],
          "name": "stdout"
        }
      ]
    },
    {
      "cell_type": "code",
      "metadata": {
        "id": "dWTEz6k_oTy3",
        "colab_type": "code",
        "colab": {}
      },
      "source": [
        "def imshow_test(img):\n",
        "    H = img.size()[0]\n",
        "    W = img.size()[1]\n",
        "    test_colored = torch.zeros(H,W,3)\n",
        "    for row in range(H):\n",
        "      for col in range(W):\n",
        "        test_colored[row][col][0] =  labels_classes[img[row][col]].color[0]\n",
        "        test_colored[row][col][1] =  labels_classes[img[row][col]].color[1]\n",
        "        test_colored[row][col][2] =  labels_classes[img[row][col]].color[2]\n",
        "    print(img.size())   # unnormalize\n",
        "    npimg = img.numpy()\n",
        "    plt.imshow(npimg)\n",
        "    plt.show()\n",
        "\n",
        "def test_img(data_loader):\n",
        "\n",
        "    with torch.no_grad():\n",
        "        softmax = nn.Softmax(dim=1)\n",
        "        ts = time.time()\n",
        "        outputs = []\n",
        "        output_labels = []\n",
        "        print(\"Starting Testing\")\n",
        "        \n",
        "        for iter, (X, tar, Y) in enumerate(data_loader):\n",
        "\n",
        "            inputs = X.to(device)\n",
        "            labels_cat = Y.to(device)\n",
        "\n",
        "            outputs = softmax(fcn_model(inputs))\n",
        "\n",
        "            output_labels = outputs.argmax(dim=1)\n",
        "\n",
        "        print_info(\"Finished evaluation. Time elapsed %f\\n\" % (time.time() - ts))\n",
        "        return outputs, output_labels"
      ],
      "execution_count": 0,
      "outputs": []
    },
    {
      "cell_type": "code",
      "metadata": {
        "id": "0LRJxaYdvceD",
        "colab_type": "code",
        "colab": {}
      },
      "source": [
        "num_wrkrs = 4\n",
        "test_dataset_resized = CityScapesDatasetResize(csv_file='img_drive.csv')\n",
        "test_dataset = CityScapesDataset(csv_file='img_drive.csv')\n",
        "test_resized_loader = DataLoader(dataset=test_dataset_resized,\n",
        "                          batch_size=1,\n",
        "                          num_workers=num_wrkrs,\n",
        "                          shuffle=True)\n",
        "test_loader = DataLoader(dataset=test_dataset,\n",
        "                          batch_size=1,\n",
        "                          num_workers=num_wrkrs,\n",
        "                          shuffle=True)"
      ],
      "execution_count": 0,
      "outputs": []
    },
    {
      "cell_type": "code",
      "metadata": {
        "id": "U6F9NuBMgEyL",
        "colab_type": "code",
        "colab": {
          "base_uri": "https://localhost:8080/",
          "height": 779
        },
        "outputId": "90b22e5c-7fd4-4cb8-a972-ea61686a5ac7"
      },
      "source": [
        "from utils_2 import *\n",
        "\n",
        "epochs     = 100\n",
        "start_epoch = 1\n",
        "path = '/content/drive/My Drive/CSE253/PA3/FCN8S/'\n",
        "criterion = torch.nn.CrossEntropyLoss()\n",
        "fcn_model = FCN8S(n_class=34)\n",
        "\n",
        "fcn_model.load_state_dict(torch.load(path + 'best_model_02_16_07_22.pt'))\n",
        "fcn_model = fcn_model.to(device)\n",
        "optimizer = optim.Adam(fcn_model.parameters(), lr=5e-5, weight_decay=1e-5)\n",
        "\n",
        "imgs, _, labels = next(iter(test_loader))\n",
        "imgs_resized, _, labels_resized = next(iter(test_resized_loader))\n",
        "\n",
        "imshow_test(labels.squeeze(0))\n",
        "\n",
        "img, lbls = test_img(test_loader)\n",
        "imshow_test(lbls.squeeze(0).cpu())\n",
        "\n",
        "resized_img, resized_lbls = test_img(test_resized_loader)\n",
        "imshow_test(resized_lbls.squeeze(0).cpu())\n",
        "\n",
        "ups_img = torch.nn.functional.interpolate(input=resized_lbls, size=(1024, 2048))\n",
        "imshow_test(ups_img.squeeze(0).cpu())"
      ],
      "execution_count": 34,
      "outputs": [
        {
          "output_type": "stream",
          "text": [
            "torch.Size([1024, 2048])\n"
          ],
          "name": "stdout"
        },
        {
          "output_type": "display_data",
          "data": {
            "image/png": "[encoded data removed]",
            "text/plain": [
              "<Figure size 432x288 with 1 Axes>"
            ]
          },
          "metadata": {
            "tags": []
          }
        },
        {
          "output_type": "stream",
          "text": [
            "Starting Testing\n",
            "Finished evaluation. Time elapsed 0.664043\n",
            "\n",
            "torch.Size([1024, 2048])\n"
          ],
          "name": "stdout"
        },
        {
          "output_type": "display_data",
          "data": {
            "image/png": "[encoded data removed]",
            "text/plain": [
              "<Figure size 432x288 with 1 Axes>"
            ]
          },
          "metadata": {
            "tags": []
          }
        },
        {
          "output_type": "stream",
          "text": [
            "Starting Testing\n",
            "Finished evaluation. Time elapsed 0.631241\n",
            "\n",
            "torch.Size([256, 512])\n"
          ],
          "name": "stdout"
        },
        {
          "output_type": "display_data",
          "data": {
            "image/png": "[encoded data removed]",
            "text/plain": [
              "<Figure size 432x288 with 1 Axes>"
            ]
          },
          "metadata": {
            "tags": []
          }
        }
      ]
    }
  ]
}