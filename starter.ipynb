{
 "cells": [
  {
   "cell_type": "code",
   "execution_count": 15,
   "metadata": {},
   "outputs": [],
   "source": [
    "from torchvision import utils\n",
    "from dataloader import *\n",
    "# from utils import *\n",
    "import torchvision\n",
    "import torch.nn.functional as F\n",
    "import torch.optim as optim\n",
    "import torch.nn as nn\n",
    "from torch.autograd import Variable\n",
    "import torch\n",
    "import time"
   ]
  },
  {
   "cell_type": "code",
   "execution_count": 16,
   "metadata": {},
   "outputs": [],
   "source": [
    "import matplotlib.pyplot as plt\n",
    "import numpy as np\n",
    "\n",
    "# functions to show an image\n",
    "\n",
    "\n",
    "def imshow(img):\n",
    "    img = img / 2 + 0.5     # unnormalize\n",
    "    npimg = img.numpy()\n",
    "    plt.imshow(np.transpose(npimg, (1, 2, 0)))\n",
    "    plt.show()"
   ]
  },
  {
   "cell_type": "code",
   "execution_count": 17,
   "metadata": {},
   "outputs": [],
   "source": [
    "class FCN(torch.nn.Module):\n",
    "\n",
    "    def __init__(self, n_class):\n",
    "        super(FCN, self).__init__()\n",
    "        self.n_class = n_class\n",
    "        self.conv1   = nn.Conv2d(3, 32, kernel_size=(3,5), stride=(2,4), padding=1, dilation=1)\n",
    "        self.bnd1    = nn.BatchNorm2d(32)\n",
    "        self.conv2   = nn.Conv2d(32, 64, kernel_size=3, stride=2, padding=1, dilation=1)\n",
    "        self.bnd2    = nn.BatchNorm2d(64)\n",
    "        self.conv3   = nn.Conv2d(64, 128, kernel_size=3, stride=2, padding=1, dilation=1)\n",
    "        self.bnd3    = nn.BatchNorm2d(128)\n",
    "        self.conv4   = nn.Conv2d(128,256, kernel_size=3, stride=2, padding=1, dilation=1)\n",
    "        self.bnd4    = nn.BatchNorm2d(256)\n",
    "        self.conv5   = nn.Conv2d(256, 512, kernel_size=3, stride=2, padding=1, dilation=1)\n",
    "        self.bnd5    = nn.BatchNorm2d(512)\n",
    "        self.relu    = nn.ReLU(inplace=True)\n",
    "        \n",
    "        self.deconv1 = nn.ConvTranspose2d(n_class, 512, kernel_size=2, stride=2, padding=1, dilation=1, output_padding=1)\n",
    "        self.bn1     = nn.BatchNorm2d(512)\n",
    "        self.deconv2 = nn.ConvTranspose2d(512, 256, kernel_size=3, stride=2, padding=1, dilation=1, output_padding=1)\n",
    "        self.bn2     = nn.BatchNorm2d(256)\n",
    "        self.deconv3 = nn.ConvTranspose2d(256, 128, kernel_size=3, stride=2, padding=1, dilation=1, output_padding=1)\n",
    "        self.bn3     = nn.BatchNorm2d(128)\n",
    "        self.deconv4 = nn.ConvTranspose2d(128, 64, kernel_size=3, stride=2, padding=1, dilation=1, output_padding=1)\n",
    "        self.bn4     = nn.BatchNorm2d(64)\n",
    "        self.deconv5 = nn.ConvTranspose2d(64, 32, kernel_size=3, stride=2, padding=1, dilation=1, output_padding=1)\n",
    "        self.bn5     = nn.BatchNorm2d(32)\n",
    "        self.decode  = nn.ConvTranspose2d(32, n_class, kernel_size=(3, 5), stride=(2,4), padding=1, dilation=1, output_padding=1)\n",
    "        self.decod_bn= nn.BatchNorm2d(n_class)\n",
    "        self.classifier = nn.Conv2d(512,n_class, kernel_size=1, stride=1, padding=0, dilation=1)\n",
    "        self.class_bn = nn.BatchNorm2d(n_class)\n",
    "        \n",
    "    def forward(self, x):\n",
    "        pool = nn.MaxPool2d(2, stride=2,return_indices = True)\n",
    "\n",
    "        unpool = nn.MaxUnpool2d(2, stride=2)\n",
    "        \n",
    "        cx1 = self.relu(self.conv1(x))\n",
    "        x1, indice1 = pool(cx1)\n",
    "        x1 = self.bnd1(x1)\n",
    "        print(x1.size())\n",
    "        cx2 = self.relu(self.conv2(x1))\n",
    "        x2, indice2 = pool(cx2)\n",
    "        x2 = self.bnd2(x2)\n",
    "        print(x2.size())\n",
    "        cx3 = self.relu(self.conv3(x2))\n",
    "        x3, indice3 = pool(cx3)\n",
    "        print(\"x3, indice3\" ,x3.size(), indice3.size())\n",
    "        x3 = self.bnd3(x3)\n",
    "        \n",
    "        cx4 = self.relu(self.conv4(x3))\n",
    "        x4, indice4 = pool(cx4)\n",
    "        print(\"x4, indice4\" ,x4.size(), indice4.size())\n",
    "        x4 = self.bnd4(x4)\n",
    "        \n",
    "        cx5 = self.relu(self.conv5(x4))\n",
    "        x5, indice5 = pool(cx5)\n",
    "        print(\"x5, indice5\" ,x5.size(), indice5.size())\n",
    "        x5 = self.bnd5(x5)\n",
    "        print(\"--- Done with Convolutions ---\")\n",
    "#         score = (self.relu(self.classifier(out_encoder))) \n",
    "        # Complete the forward function for the rest of the encoder\n",
    "        print(x5.size())\n",
    "        score = self.relu(self.classifier(x5))\n",
    "        score = self.class_bn(score)\n",
    "        print(score.size(), indice5.size(), cx5.size())\n",
    "        z1 = self.bn1(self.deconv1(self.relu(score)))\n",
    "        print(z1.size(), indice5.size(), cx5.size())\n",
    "        z1 = unpool(z1, indice5)\n",
    "        \n",
    "        print(z1.size(),indice4.size())\n",
    "        z2 = self.bn2(self.deconv2(self.relu(z1)))\n",
    "        z2 = unpool(z2, indice4)\n",
    "        \n",
    "#         z2 = self.bn2(self.relu(self.deconv2(z1)))\n",
    "        print(z2.size())\n",
    "        z3 = self.bn3(self.deconv3(self.relu(z2)))\n",
    "        z3 = unpool(z3, indice3)\n",
    "        \n",
    "#         z3 = self.bn3(self.relu(self.deconv3(z2)))\n",
    "        print(z3.size())\n",
    "        z4 = self.bn4(self.deconv4(self.relu(z3)))\n",
    "        z4 = unpool(z4, indice2)\n",
    "        \n",
    "#         z4 = self.bn4(self.relu(self.deconv4(z3)))\n",
    "        print(z4.size())\n",
    "        z5 = self.bn5(self.deconv5(self.relu(z4)))\n",
    "        z5 = unpool(z5, indice1)\n",
    "        \n",
    "        out_decoder = self.decode(self.relu(z5))\n",
    "        out_decoder = self.decod_bn(out_decoder)\n",
    "        print(\"out_decoder\", out_decoder.size())\n",
    "            \n",
    "        # Complete the forward function for the rest of the decoder\n",
    "        \n",
    "#         score = self.classifier(out_decoder)                   \n",
    "\n",
    "        return score  # size=(N, n_class, x.H/1, x.W/1)"
   ]
  },
  {
   "cell_type": "code",
   "execution_count": 18,
   "metadata": {},
   "outputs": [
    {
     "name": "stdout",
     "output_type": "stream",
     "text": [
      "cuda:0\n",
      "True\n"
     ]
    }
   ],
   "source": [
    "device = torch.device(\"cuda:0\" if torch.cuda.is_available() else \"cpu\")\n",
    "print(device)\n",
    "print(torch.cuda.is_available())"
   ]
  },
  {
   "cell_type": "code",
   "execution_count": 19,
   "metadata": {},
   "outputs": [],
   "source": [
    "train_dataset = CityScapesDataset(csv_file='train.csv')\n",
    "val_dataset = CityScapesDataset(csv_file='val.csv')\n",
    "test_dataset = CityScapesDataset(csv_file='test.csv')\n",
    "train_loader = DataLoader(dataset=train_dataset,\n",
    "                          batch_size=10,\n",
    "                          num_workers=0,\n",
    "                          shuffle=True)\n",
    "val_loader = DataLoader(dataset=val_dataset,\n",
    "                          batch_size=10,\n",
    "                          num_workers=1,\n",
    "                          shuffle=True)\n",
    "test_loader = DataLoader(dataset=test_dataset,\n",
    "                          batch_size=10,\n",
    "                          num_workers=1,\n",
    "                          shuffle=True)\n",
    "\n"
   ]
  },
  {
   "cell_type": "code",
   "execution_count": 20,
   "metadata": {},
   "outputs": [
    {
     "name": "stdout",
     "output_type": "stream",
     "text": [
      "Conv2d(3, 32, kernel_size=(3, 5), stride=(2, 4), padding=(1, 1))\n",
      "Conv2d(32, 64, kernel_size=(3, 3), stride=(2, 2), padding=(1, 1))\n",
      "Conv2d(64, 128, kernel_size=(3, 3), stride=(2, 2), padding=(1, 1))\n",
      "Conv2d(128, 256, kernel_size=(3, 3), stride=(2, 2), padding=(1, 1))\n",
      "Conv2d(256, 512, kernel_size=(3, 3), stride=(2, 2), padding=(1, 1))\n",
      "ConvTranspose2d(34, 512, kernel_size=(2, 2), stride=(2, 2), padding=(1, 1), output_padding=(1, 1))\n",
      "ConvTranspose2d(512, 256, kernel_size=(3, 3), stride=(2, 2), padding=(1, 1), output_padding=(1, 1))\n",
      "ConvTranspose2d(256, 128, kernel_size=(3, 3), stride=(2, 2), padding=(1, 1), output_padding=(1, 1))\n",
      "ConvTranspose2d(128, 64, kernel_size=(3, 3), stride=(2, 2), padding=(1, 1), output_padding=(1, 1))\n",
      "ConvTranspose2d(64, 32, kernel_size=(3, 3), stride=(2, 2), padding=(1, 1), output_padding=(1, 1))\n",
      "ConvTranspose2d(32, 3, kernel_size=(3, 5), stride=(2, 4), padding=(1, 1), output_padding=(1, 1))\n",
      "Conv2d(512, 34, kernel_size=(1, 1), stride=(1, 1))\n"
     ]
    }
   ],
   "source": [
    "def init_weights(m):\n",
    "    if isinstance(m, nn.Conv2d) or isinstance(m, nn.ConvTranspose2d):\n",
    "        print(m)\n",
    "        torch.nn.init.xavier_uniform_(m.weight.data)\n",
    "#         torch.nn.init.xavier_uniform(m.bias.data)\n",
    "        m.bias.data.zero_()\n",
    "epochs     = 100\n",
    "criterion = torch.nn.MSELoss()\n",
    "fcn_model = FCN(n_class=34)\n",
    "fcn_model.apply(init_weights)\n",
    "#fcn_model = torch.load('best_model')\n",
    "optimizer = optim.Adam(fcn_model.parameters(), lr=5e-3)"
   ]
  },
  {
   "cell_type": "code",
   "execution_count": 21,
   "metadata": {
    "scrolled": true
   },
   "outputs": [
    {
     "name": "stdout",
     "output_type": "stream",
     "text": [
      "torch.Size([10, 34, 1024, 2048])\n",
      "torch.Size([10, 1024, 2048])\n",
      "torch.Size([10, 3, 1024, 2048])\n",
      "torch.Size([10, 3, 1024, 2048])\n",
      "torch.Size([10, 32, 256, 256])\n",
      "torch.Size([10, 64, 64, 64])\n",
      "x3, indice3 torch.Size([10, 128, 16, 16]) torch.Size([10, 128, 16, 16])\n",
      "x4, indice4 torch.Size([10, 256, 4, 4]) torch.Size([10, 256, 4, 4])\n",
      "x5, indice5 torch.Size([10, 512, 1, 1]) torch.Size([10, 512, 1, 1])\n",
      "--- Done with Convolutions ---\n",
      "torch.Size([10, 512, 1, 1])\n",
      "torch.Size([10, 34, 1, 1]) torch.Size([10, 512, 1, 1]) torch.Size([10, 512, 2, 2])\n",
      "torch.Size([10, 512, 1, 1]) torch.Size([10, 512, 1, 1]) torch.Size([10, 512, 2, 2])\n",
      "torch.Size([10, 512, 2, 2]) torch.Size([10, 256, 4, 4])\n",
      "torch.Size([10, 256, 8, 8])\n",
      "torch.Size([10, 128, 32, 32])\n",
      "torch.Size([10, 64, 128, 128])\n",
      "out_decoder torch.Size([10, 3, 1024, 2048])\n",
      "<class 'torch.Tensor'>\n"
     ]
    },
    {
     "data": {
      "image/png": "[encoded data removed]",
      "text/plain": [
       "<Figure size 432x288 with 1 Axes>"
      ]
     },
     "metadata": {
      "needs_background": "light"
     },
     "output_type": "display_data"
    },
    {
     "data": {
      "image/png": "[encoded data removed]",
      "text/plain": [
       "<Figure size 432x288 with 1 Axes>"
      ]
     },
     "metadata": {
      "needs_background": "light"
     },
     "output_type": "display_data"
    },
    {
     "data": {
      "image/png": "[encoded data removed]",
      "text/plain": [
       "<Figure size 432x288 with 1 Axes>"
      ]
     },
     "metadata": {
      "needs_background": "light"
     },
     "output_type": "display_data"
    },
    {
     "data": {
      "image/png": "[encoded data removed]",
      "text/plain": [
       "<Figure size 432x288 with 1 Axes>"
      ]
     },
     "metadata": {
      "needs_background": "light"
     },
     "output_type": "display_data"
    },
    {
     "data": {
      "image/png": "[encoded data removed]",
      "text/plain": [
       "<Figure size 432x288 with 1 Axes>"
      ]
     },
     "metadata": {
      "needs_background": "light"
     },
     "output_type": "display_data"
    },
    {
     "data": {
      "image/png": "[encoded data removed]",
      "text/plain": [
       "<Figure size 432x288 with 1 Axes>"
      ]
     },
     "metadata": {
      "needs_background": "light"
     },
     "output_type": "display_data"
    },
    {
     "data": {
      "image/png": "[encoded data removed]",
      "text/plain": [
       "<Figure size 432x288 with 1 Axes>"
      ]
     },
     "metadata": {
      "needs_background": "light"
     },
     "output_type": "display_data"
    },
    {
     "data": {
      "image/png": "[encoded data removed]",
      "text/plain": [
       "<Figure size 432x288 with 1 Axes>"
      ]
     },
     "metadata": {
      "needs_background": "light"
     },
     "output_type": "display_data"
    },
    {
     "data": {
      "image/png": "[encoded data removed]",
      "text/plain": [
       "<Figure size 432x288 with 1 Axes>"
      ]
     },
     "metadata": {
      "needs_background": "light"
     },
     "output_type": "display_data"
    },
    {
     "data": {
      "image/png": "[encoded data removed]",
      "text/plain": [
       "<Figure size 432x288 with 1 Axes>"
      ]
     },
     "metadata": {
      "needs_background": "light"
     },
     "output_type": "display_data"
    },
    {
     "name": "stdout",
     "output_type": "stream",
     "text": [
      "Finish epoch 0, time elapsed 14.451017141342163\n"
     ]
    }
   ],
   "source": [
    "use_gpu = torch.cuda.is_available()\n",
    "use_gpu = False\n",
    "if use_gpu:\n",
    "    fcn_model = fcn_model.to(device)\n",
    "    \n",
    "def train():\n",
    "    for epoch in range(epochs):\n",
    "        ts = time.time()\n",
    "        for iter, (X, tar, Y) in enumerate(train_loader):\n",
    "            optimizer.zero_grad()\n",
    "\n",
    "            print(tar.size())\n",
    "            print(Y.size())\n",
    "            print(X.size())\n",
    "\n",
    "            if use_gpu:\n",
    "                print(\"GPU\")\n",
    "                inputs = X.to(device)\n",
    "                labels = Y.to(device)\n",
    "            else:\n",
    "                inputs, labels = X, Y\n",
    "            print(inputs.size())\n",
    "            outputs = fcn_model(inputs)\n",
    "            break\n",
    "            print(outputs.size())\n",
    "            loss = criterion(outputs, labels)\n",
    "            print(loss)\n",
    "            loss.backward()\n",
    "            optimizer.step()\n",
    "\n",
    "            if iter % 10 == 0:\n",
    "                print(\"epoch{}, iter{}, loss: {}\".format(epoch, iter, loss.item()))\n",
    "            \n",
    "            break\n",
    "        print(\"Finish epoch {}, time elapsed {}\".format(epoch, time.time() - ts))\n",
    "#         torch.save(fcn_model, 'best_model')\n",
    "        break\n",
    "\n",
    "        val(epoch)\n",
    "        fcn_model.train()\n",
    "\n",
    "\n",
    "def val(epoch):\n",
    "    fcn_model.eval()\n",
    "    #Complete this function - Calculate loss, accuracy and IoU for every epoch\n",
    "    # Make sure to include a softmax after the output from your model\n",
    "    \n",
    "def test():\n",
    "    print(' ')\n",
    "    #Complete this function - Calculate accuracy and IoU \n",
    "    # Make sure to include a softmax after the output from your model\n",
    "    \n",
    "if __name__ == \"__main__\":\n",
    "    val(0)  # show the accuracy before training\n",
    "    train()"
   ]
  },
  {
   "cell_type": "code",
   "execution_count": null,
   "metadata": {},
   "outputs": [],
   "source": []
  }
 ],
 "metadata": {
  "kernelspec": {
   "display_name": "Python 3",
   "language": "python",
   "name": "python3"
  },
  "language_info": {
   "codemirror_mode": {
    "name": "ipython",
    "version": 3
   },
   "file_extension": ".py",
   "mimetype": "text/x-python",
   "name": "python",
   "nbconvert_exporter": "python",
   "pygments_lexer": "ipython3",
   "version": "3.7.6"
  },
  "pycharm": {
   "stem_cell": {
    "cell_type": "raw",
    "metadata": {
     "collapsed": false
    },
    "source": []
   }
  }
 },
 "nbformat": 4,
 "nbformat_minor": 2
}
